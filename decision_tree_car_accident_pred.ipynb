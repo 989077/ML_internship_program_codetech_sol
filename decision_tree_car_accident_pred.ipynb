{
 "cells": [
  {
   "cell_type": "code",
   "execution_count": null,
   "id": "0ecf68b7-5b8a-4a78-a53c-a82218503e73",
   "metadata": {},
   "outputs": [],
   "source": [
    "# impoprt necessary libraries\n",
    "import pandas as pd\n",
    "import numpy as np\n",
    "import seaborn as sns\n",
    "import matplotlib.pyplot as plt\n",
    "from sklearn.model_selection import train_test_split\n",
    "from sklearn.preprocessing import StandardScaler, LabelEncoder\n",
    "from sklearn.metrics import accuracy_score, classification_report, confusion_matrix"
   ]
  },
  {
   "cell_type": "code",
   "execution_count": null,
   "id": "3fb4cb70-4bb4-4d94-8e29-2a1335846607",
   "metadata": {},
   "outputs": [],
   "source": [
    "df = pd.read_csv('dataset_traffic_accident_prediction1.csv')\n",
    "df.head()"
   ]
  },
  {
   "cell_type": "code",
   "execution_count": null,
   "id": "47c5c348-9900-4332-9a78-1be5679d04bd",
   "metadata": {},
   "outputs": [],
   "source": [
    "if df.isnull().values.any():\n",
    "    print(\"The dataset contains missing values.\")\n",
    "else:\n",
    "    print(\"The dataset does not contain missing values.\")\n"
   ]
  },
  {
   "cell_type": "code",
   "execution_count": null,
   "id": "5c4856f6-bfc8-4a12-bc31-75c918bd5760",
   "metadata": {},
   "outputs": [],
   "source": [
    "missing_values = df.isnull().sum()\n",
    "missing_values\n"
   ]
  },
  {
   "cell_type": "code",
   "execution_count": null,
   "id": "35df1a89-9423-4917-ad9e-586fe37de957",
   "metadata": {},
   "outputs": [],
   "source": [
    "df = df.dropna()"
   ]
  },
  {
   "cell_type": "code",
   "execution_count": null,
   "id": "978310bd-bdf8-4871-8b8a-34181e07c6b8",
   "metadata": {},
   "outputs": [],
   "source": [
    "df['Accident'] = df['Accident'].fillna(0)"
   ]
  },
  {
   "cell_type": "code",
   "execution_count": null,
   "id": "5ca4cd88-5d6c-4f0b-b693-52b4a594a6a7",
   "metadata": {},
   "outputs": [],
   "source": [
    "df"
   ]
  },
  {
   "cell_type": "code",
   "execution_count": null,
   "id": "18ff78ed-7a89-41e6-8512-b39faea6ccac",
   "metadata": {},
   "outputs": [],
   "source": [
    "print(df.info())"
   ]
  },
  {
   "cell_type": "code",
   "execution_count": null,
   "id": "4f3119bb-b685-4299-aeaa-a99ed5362f6e",
   "metadata": {},
   "outputs": [],
   "source": [
    "from sklearn.preprocessing import LabelEncoder\n",
    "\n",
    "label_encoder = LabelEncoder()\n",
    "df['Weather'] = label_encoder.fit_transform(df['Weather'])\n",
    "df['Road_Type'] = label_encoder.fit_transform(df['Road_Type'])\n",
    "df['Time_of_Day'] = label_encoder.fit_transform(df['Time_of_Day'])"
   ]
  },
  {
   "cell_type": "code",
   "execution_count": null,
   "id": "a30ec2de-25c6-466e-8662-f80392ececa0",
   "metadata": {},
   "outputs": [],
   "source": [
    "df.head()"
   ]
  },
  {
   "cell_type": "code",
   "execution_count": null,
   "id": "42a014fa-478e-4c99-aeda-c6ff345dda58",
   "metadata": {},
   "outputs": [],
   "source": [
    "# Define the target variable and the predicter variable\n",
    "x = df[['Weather','Road_Type','Time_of_Day']] # predicter\n",
    "y = df[['Accident']] # Target\n"
   ]
  },
  {
   "cell_type": "code",
   "execution_count": null,
   "id": "bb6c8acf-9fa4-490e-b466-2f5fef3c0f8d",
   "metadata": {},
   "outputs": [],
   "source": [
    "# Stratified split\n",
    "x_train, x_test, y_train, y_test = train_test_split(x, y, test_size=0.2, random_state=42)"
   ]
  },
  {
   "cell_type": "code",
   "execution_count": null,
   "id": "8d80e9b9-7dfe-4a1b-8b2f-ca78278cd422",
   "metadata": {},
   "outputs": [],
   "source": [
    "# Decision Tree\n",
    "from sklearn.tree import DecisionTreeClassifier\n",
    "\n",
    "decision_tree = DecisionTreeClassifier()\n",
    "decision_tree.fit(x_train, y_train)\n",
    "decision_tree_pred = decision_tree.predict(x_test)\n",
    "decision_tree_accuracy = accuracy_score(y_test, decision_tree_pred)"
   ]
  },
  {
   "cell_type": "code",
   "execution_count": null,
   "id": "ceb8fb75-1862-466c-812d-93fcd04b7ea6",
   "metadata": {},
   "outputs": [],
   "source": [
    "print(\"decision tree accuracy:\", decision_tree_accuracy)\n",
    "print(\"decision tree prediction:\", decision_tree_pred)"
   ]
  },
  {
   "cell_type": "code",
   "execution_count": null,
   "id": "4461652b-da3d-43de-ae55-b43305c3295e",
   "metadata": {},
   "outputs": [],
   "source": [
    "from sklearn.model_selection import cross_val_score\n",
    "\n",
    "cv_scores = cross_val_score(decision_tree, x, y, cv=5)\n",
    "print(f\"Cross-Validation Accuracy: {cv_scores.mean() * 100:.2f}%\")\n"
   ]
  },
  {
   "cell_type": "code",
   "execution_count": null,
   "id": "7d3de43c-0137-4536-9229-7563ed854d97",
   "metadata": {},
   "outputs": [],
   "source": [
    "from sklearn.model_selection import GridSearchCV\n",
    "# Hyperparameter Tuning - for better perfomance\n",
    "param_grid = {\n",
    "    'max_depth': [3, 5, 10],\n",
    "    'criterion': ['gini', 'entropy']\n",
    "}\n",
    "grid_search = GridSearchCV(DecisionTreeClassifier(), param_grid, cv=5)\n",
    "grid_search.fit(x_train, y_train)\n",
    "print(\"Best Parameters:\", grid_search.best_params_)\n"
   ]
  },
  {
   "cell_type": "code",
   "execution_count": null,
   "id": "816c5896-cdc6-4e61-82a2-7d20c19f8c40",
   "metadata": {},
   "outputs": [],
   "source": [
    "from sklearn.tree import plot_tree\n",
    "import matplotlib.pyplot as plt\n",
    "# Visualizing the Decision Tree\n",
    "plt.figure(figsize=(10, 8))\n",
    "plot_tree(decision_tree, feature_names=x.columns, class_names=['Class 0', 'Class 1'], filled=True)\n",
    "plt.show()\n"
   ]
  },
  {
   "cell_type": "code",
   "execution_count": null,
   "id": "43759140-df25-447c-af53-4f72c4dd2bc5",
   "metadata": {},
   "outputs": [],
   "source": [
    "# Confusion matrix\n",
    "\n",
    "plt.figure(figsize=(7,5))\n",
    "sns.heatmap(confusion_matrix(y_test, decision_tree_pred), annot=True, fmt='d', cmap='Blues'\n",
    "           )\n",
    "plt.title('Decision Tree Confusion matrix')\n",
    "plt.show()"
   ]
  },
  {
   "cell_type": "code",
   "execution_count": null,
   "id": "b2e957c1-c40d-46d0-b1ce-9d877f15f117",
   "metadata": {},
   "outputs": [],
   "source": [
    "df.head()"
   ]
  },
  {
   "cell_type": "code",
   "execution_count": null,
   "id": "2313e1ce-3d5d-43dd-9200-72a472dd0973",
   "metadata": {},
   "outputs": [],
   "source": []
  },
  {
   "cell_type": "code",
   "execution_count": null,
   "id": "4ead4f75-c58c-4c24-8668-4694fbe85148",
   "metadata": {},
   "outputs": [],
   "source": []
  }
 ],
 "metadata": {
  "kernelspec": {
   "display_name": "Python [conda env:base] *",
   "language": "python",
   "name": "conda-base-py"
  },
  "language_info": {
   "codemirror_mode": {
    "name": "ipython",
    "version": 3
   },
   "file_extension": ".py",
   "mimetype": "text/x-python",
   "name": "python",
   "nbconvert_exporter": "python",
   "pygments_lexer": "ipython3",
   "version": "3.12.7"
  }
 },
 "nbformat": 4,
 "nbformat_minor": 5
}
